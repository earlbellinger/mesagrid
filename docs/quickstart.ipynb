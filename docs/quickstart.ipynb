{
 "cells": [
  {
   "cell_type": "markdown",
   "id": "e2604642-5d06-4fc2-a9fb-de5ca34feb56",
   "metadata": {},
   "source": [
    "---\n",
    "title: mesagrid\n",
    "subtitle: A tutorial \n",
    "authors:\n",
    "  - name: Earl Patrick Bellinger\n",
    "    orcid: 0000-0003-4456-4863\n",
    "    affiliations:\n",
    "      - Department of Astronomy, Yale University\n",
    "license: CC-BY-4.0\n",
    "---"
   ]
  },
  {
   "cell_type": "markdown",
   "id": "7b051b80-0d06-4c98-bc73-60babc488341",
   "metadata": {},
   "source": [
    "Hello"
   ]
  }
 ],
 "metadata": {
  "kernelspec": {
   "display_name": "Python 3 (ipykernel)",
   "language": "python",
   "name": "python3"
  },
  "language_info": {
   "codemirror_mode": {
    "name": "ipython",
    "version": 3
   },
   "file_extension": ".py",
   "mimetype": "text/x-python",
   "name": "python",
   "nbconvert_exporter": "python",
   "pygments_lexer": "ipython3",
   "version": "3.11.5"
  }
 },
 "nbformat": 4,
 "nbformat_minor": 5
}
